{
 "cells": [
  {
   "cell_type": "markdown",
   "metadata": {},
   "source": [
    "Thực hiện các bước tính toán cho cổng logic XOR với theta = 0.5, các giá trị còn lại tự chọn."
   ]
  },
  {
   "cell_type": "code",
   "execution_count": 7,
   "metadata": {},
   "outputs": [],
   "source": [
    "def f(x,w1,w2):\n",
    "    y=w1*x['x1']+w2*x['x2']\n",
    "    return 1 if y>=0.5 else 0\n",
    "\n",
    "def update(w1,w2,x,y):\n",
    "    y_pre=f(x,w1,w2)\n",
    "    erro=y-y_pre\n",
    "    if erro !=0:\n",
    "        w1=w1+erro*x['x1']\n",
    "        w2=w2+erro*x['x2']\n",
    "\n",
    "\n",
    "\n",
    "import pandas as pd\n",
    "\n",
    "# Tạo DataFrame từ bảng\n",
    "df = pd.DataFrame({\n",
    "    \"x1\": [0, 0, 1, 1],\n",
    "    \"x2\": [0, 1, 0, 1],\n",
    "    \"x1_not_x2\": [0, 0, 1, 0],\n",
    "    \"not_x1_x2\": [0, 1, 0, 0],\n",
    "    \"y\": [0, 1, 1, 0]\n",
    "})\n",
    "\n",
    "x=df[['x1','x2']]"
   ]
  },
  {
   "cell_type": "code",
   "execution_count": 8,
   "metadata": {},
   "outputs": [
    {
     "name": "stdout",
     "output_type": "stream",
     "text": [
      "Dữ liệu: [0 0], Dự đoán x1_not_x2: 0, Dự đoán not_x1_x2: 0\n",
      "Dữ liệu: [0 1], Dự đoán x1_not_x2: 0, Dự đoán not_x1_x2: 1\n",
      "Dữ liệu: [1 0], Dự đoán x1_not_x2: 1, Dự đoán not_x1_x2: 0\n",
      "Dữ liệu: [1 1], Dự đoán x1_not_x2: 0, Dự đoán not_x1_x2: 0\n"
     ]
    }
   ],
   "source": [
    "import pandas as pd\n",
    "\n",
    "# Tạo DataFrame từ bảng\n",
    "df = pd.DataFrame({\n",
    "    \"x1\": [0, 0, 1, 1],\n",
    "    \"x2\": [0, 1, 0, 1],\n",
    "    \"x1_not_x2\": [0, 0, 1, 0],\n",
    "    \"not_x1_x2\": [0, 1, 0, 0]\n",
    "})\n",
    "\n",
    "# Hàm dự đoán\n",
    "def f(x, w1, w2, b):\n",
    "    y = w1 * x[\"x1\"] + w2 * x[\"x2\"] + b\n",
    "    return 1 if y >= 0.5 else 0  # Hàm bước\n",
    "\n",
    "# Hàm cập nhật trọng số\n",
    "def update(w1, w2, b, x, y, lr):\n",
    "    y_pred = f(x, w1, w2, b)\n",
    "    error = y - y_pred\n",
    "    \n",
    "    # Cập nhật trọng số nếu dự đoán sai\n",
    "    if error != 0:\n",
    "        w1 = w1 + lr * error * x[\"x1\"]\n",
    "        w2 = w2 + lr * error * x[\"x2\"]\n",
    "        b = b + lr * error  # Cập nhật bias\n",
    "\n",
    "    return w1, w2, b\n",
    "\n",
    "# Huấn luyện Perceptron\n",
    "def train(df, target_column, epochs=10, lr=0.1):\n",
    "    w1, w2, b = 0.0, 0.0, 0.0  # Khởi tạo trọng số\n",
    "    \n",
    "    for epoch in range(epochs):\n",
    "        for i in range(len(df)):\n",
    "            x = df.iloc[i]  # Lấy từng dòng dữ liệu\n",
    "            y = df[target_column][i]  # Nhãn thực tế\n",
    "            w1, w2, b = update(w1, w2, b, x, y, lr)  # Cập nhật trọng số\n",
    "    \n",
    "    return w1, w2, b\n",
    "\n",
    "# Huấn luyện cho cả hai cột đầu ra\n",
    "w1_x1notx2, w2_x1notx2, b_x1notx2 = train(df, \"x1_not_x2\")\n",
    "w1_notx1x2, w2_notx1x2, b_notx1x2 = train(df, \"not_x1_x2\")\n",
    "\n",
    "# Kiểm tra dự đoán sau huấn luyện\n",
    "for i in range(len(df)):\n",
    "    x = df.iloc[i]\n",
    "    pred_x1notx2 = f(x, w1_x1notx2, w2_x1notx2, b_x1notx2)\n",
    "    pred_notx1x2 = f(x, w1_notx1x2, w2_notx1x2, b_notx1x2)\n",
    "    \n",
    "    print(f\"Dữ liệu: {x[['x1', 'x2']].values}, Dự đoán x1_not_x2: {pred_x1notx2}, Dự đoán not_x1_x2: {pred_notx1x2}\")\n"
   ]
  }
 ],
 "metadata": {
  "kernelspec": {
   "display_name": "ML01",
   "language": "python",
   "name": "python3"
  },
  "language_info": {
   "codemirror_mode": {
    "name": "ipython",
    "version": 3
   },
   "file_extension": ".py",
   "mimetype": "text/x-python",
   "name": "python",
   "nbconvert_exporter": "python",
   "pygments_lexer": "ipython3",
   "version": "3.10.15"
  }
 },
 "nbformat": 4,
 "nbformat_minor": 2
}
