{
 "cells": [
  {
   "cell_type": "markdown",
   "metadata": {},
   "source": [
    "Thực hiện các bước tính toán cho cổng logic XOR với theta = 0.5, lr=11"
   ]
  },
  {
   "cell_type": "code",
   "execution_count": 30,
   "metadata": {},
   "outputs": [
    {
     "name": "stdout",
     "output_type": "stream",
     "text": [
      "Dữ liệu: [0 0], z1: 0, z2: 0, Dự đoán y: 0\n",
      "Dữ liệu: [0 1], z1: 0, z2: 1, Dự đoán y: 1\n",
      "Dữ liệu: [1 0], z1: 1, z2: 0, Dự đoán y: 1\n",
      "Dữ liệu: [1 1], z1: 0, z2: 0, Dự đoán y: 0\n"
     ]
    }
   ],
   "source": [
    "import pandas as pd\n",
    "\n",
    "# Tạo DataFrame từ bảng chaan trị\n",
    "df = pd.DataFrame({\n",
    "    \"x1\": [0, 0, 1, 1],\n",
    "    \"x2\": [0, 1, 0, 1],\n",
    "    \"x1_not_x2\": [0, 0, 1, 0],\n",
    "    \"not_x1_x2\": [0, 1, 0, 0],\n",
    "    \"y\": [0, 1, 1, 0]\n",
    "})\n",
    "\n",
    "df[\"z1\"] = 0  # x1_not_x2\n",
    "df[\"z2\"] = 0  # not_x1_x2\n",
    "\n",
    "# Hàm kích hoạt Perceptron\n",
    "def step_function(value):\n",
    "    return 1 if value >= 0.5 else 0\n",
    "\n",
    "# Hàm dự đoán với trọng số w1, w2\n",
    "def predict(x, w1, w2, feature1, feature2):\n",
    "    return step_function(w1 * x[feature1] + w2 * x[feature2])\n",
    "\n",
    "# Hàm cập nhật trọng số Perceptron\n",
    "def update_weights(w1, w2, x, y, lr, feature1, feature2):\n",
    "    y_pred = predict(x, w1, w2, feature1, feature2)\n",
    "    error = y - y_pred\n",
    "    w1 += lr * error * x[feature1]\n",
    "    w2 += lr * error * x[feature2]\n",
    "    return w1, w2\n",
    "\n",
    "def train(df, target_column, feature1, feature2, epochs=10, lr=1):\n",
    "    w1, w2 = 0.0, 0.0  # Khởi tạo trọng số\n",
    "    for epoch in range(epochs):\n",
    "        for i in range(len(df)):\n",
    "            x = df.iloc[i]\n",
    "            y = df[target_column][i]\n",
    "            w1, w2 = update_weights(w1, w2, x, y, lr, feature1, feature2)\n",
    "    return w1, w2\n",
    "\n",
    "\n",
    "w1_x1notx2, w2_x1notx2 = train(df, \"x1_not_x2\", \"x1\", \"x2\")  # z1 = x1 AND NOT x2\n",
    "w1_notx1x2, w2_notx1x2 = train(df, \"not_x1_x2\", \"x1\", \"x2\")  # z2 = NOT x1 AND x2\n",
    "\n",
    "# Cập nhật cột z1, z2\n",
    "for i in range(len(df)):\n",
    "    x = df.iloc[i]\n",
    "    df.at[i, \"z1\"] = predict(x, w1_x1notx2, w2_x1notx2, \"x1\", \"x2\")\n",
    "    df.at[i, \"z2\"] = predict(x, w1_notx1x2, w2_notx1x2, \"x1\", \"x2\")\n",
    "\n",
    "# Huấn luyện Perceptron cuối cùng để dự đoán y từ (z1, z2)\n",
    "w1_y, w2_y = train(df, \"y\", \"z1\", \"z2\")\n",
    "\n",
    "# Dự đoán giá trị y\n",
    "for i in range(len(df)):\n",
    "    x = df.iloc[i]\n",
    "    pred_x1notx2 = df.at[i, \"z1\"]\n",
    "    pred_notx1x2 = df.at[i, \"z2\"]\n",
    " \n",
    "    pred_y = step_function(w1_y * pred_x1notx2 + w2_y * pred_notx1x2)\n",
    "    print(f\"Dữ liệu: {x[['x1', 'x2']].values}, z1: {pred_x1notx2}, z2: {pred_notx1x2}, Dự đoán y: {pred_y}\")\n"
   ]
  }
 ],
 "metadata": {
  "kernelspec": {
   "display_name": "ML01",
   "language": "python",
   "name": "python3"
  },
  "language_info": {
   "codemirror_mode": {
    "name": "ipython",
    "version": 3
   },
   "file_extension": ".py",
   "mimetype": "text/x-python",
   "name": "python",
   "nbconvert_exporter": "python",
   "pygments_lexer": "ipython3",
   "version": "3.10.15"
  }
 },
 "nbformat": 4,
 "nbformat_minor": 2
}
